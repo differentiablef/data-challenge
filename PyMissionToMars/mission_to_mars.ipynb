{
 "cells": [
  {
   "cell_type": "markdown",
   "metadata": {},
   "source": [
    "### Imports"
   ]
  },
  {
   "cell_type": "code",
   "execution_count": 11,
   "metadata": {},
   "outputs": [],
   "source": [
    "import os, sys\n",
    "from bs4 import BeautifulSoup\n",
    "import pandas as pd\n",
    "import requests"
   ]
  },
  {
   "cell_type": "markdown",
   "metadata": {},
   "source": [
    "### NASA Mars News"
   ]
  },
  {
   "cell_type": "code",
   "execution_count": 69,
   "metadata": {},
   "outputs": [],
   "source": [
    "# request url for mars news api\n",
    "json_url=('https://mars.nasa.gov/api/v1/news_items/'\n",
    "          '?page=0&per_page=10'\n",
    "          '&order=publish_date+desc%2Ccreated_at+desc'\n",
    "          '&search='\n",
    "          '&category=19%2C165%2C184%2C204'\n",
    "          '&blank_scope=Latest')\n",
    "\n",
    "response = requests.get(json_url)\n",
    "if response.status_code == 200:\n",
    "    a=response.json()\n",
    "    news_item = a.get('items')[0]\n",
    "    news_title = news_item.get('title')\n",
    "    news_description = news_item.get('description')\n",
    "    news_p = BeautifulSoup(news_item.get('body'), 'html.parser').p.get_text()\n",
    "    pass"
   ]
  },
  {
   "cell_type": "code",
   "execution_count": 70,
   "metadata": {},
   "outputs": [
    {
     "name": "stdout",
     "output_type": "stream",
     "text": [
      "Title: NASA's Mars 2020 Comes Full Circle\n",
      "\n",
      "Description: Aiming to pinpoint the Martian vehicle's center of gravity, engineers took NASA's 2,300-pound Mars 2020 rover for a spin in the clean room at JPL. \n",
      "\n",
      "Blurb: ​Engineers took NASA's Mars 2020 for a spin on Aug. 29, 2019. The 2,300-pound (1,040-kilogram) Martian vehicle was rotated clockwise and counterclockwise at about 1 revolution per minute on what is called a spin table in the clean room of the Spacecraft Assembly Facility at NASA's Jet Propulsion Laboratory in Pasadena, California. (The rotation was speeded up in the video above.) The engineers were looking for the rover's center of gravity, or the point at which weight is evenly dispersed on all sides.\n",
      "\n"
     ]
    }
   ],
   "source": [
    "print(\"Title:\", news_title, end=\"\\n\\n\")\n",
    "print(\"Description:\", news_description, end=\"\\n\\n\")\n",
    "print(\"Blurb:\", news_p, end=\"\\n\\n\")"
   ]
  },
  {
   "cell_type": "markdown",
   "metadata": {},
   "source": [
    "### JPL Mars Space Images - Featured Image"
   ]
  },
  {
   "cell_type": "code",
   "execution_count": 81,
   "metadata": {},
   "outputs": [],
   "source": [
    "url=('https://www.jpl.nasa.gov/spaceimages/'\n",
    "     '?search='\n",
    "     '&category=Mars')    \n",
    "\n",
    "response = requests.get(url)\n",
    "if response.status_code == 200:\n",
    "    soup = BeautifulSoup(response.text, 'html.parser').\\\n",
    "        find('article', 'carousel_item')\n",
    "    featured_image_url = 'https://www.jpl.nasa.gov' + soup.attrs['style'].split(\"'\")[1]\n",
    "    pass"
   ]
  },
  {
   "cell_type": "code",
   "execution_count": 82,
   "metadata": {},
   "outputs": [
    {
     "name": "stdout",
     "output_type": "stream",
     "text": [
      "Image URL: https://www.jpl.nasa.gov/spaceimages/images/wallpaper/PIA02570-1920x1200.jpg\n"
     ]
    }
   ],
   "source": [
    "print(\"Image URL:\", featured_image_url)"
   ]
  },
  {
   "cell_type": "markdown",
   "metadata": {},
   "source": [
    "### Mars Weather"
   ]
  },
  {
   "cell_type": "code",
   "execution_count": null,
   "metadata": {},
   "outputs": [],
   "source": [
    "url=('https://twitter.com/marswxreport'\n",
    "     '?lang=en')\n"
   ]
  },
  {
   "cell_type": "markdown",
   "metadata": {},
   "source": [
    "### Mars Hemispheres"
   ]
  },
  {
   "cell_type": "code",
   "execution_count": 5,
   "metadata": {},
   "outputs": [],
   "source": [
    "url=('https://astrogeology.usgs.gov/search/results'\n",
    "     '?q=hemisphere+enhanced'\n",
    "     '&k1=target'\n",
    "     '&v1=Mars')\n",
    "\n",
    "\n"
   ]
  }
 ],
 "metadata": {
  "kernelspec": {
   "display_name": "Python 3",
   "language": "python",
   "name": "python3"
  },
  "language_info": {
   "codemirror_mode": {
    "name": "ipython",
    "version": 3
   },
   "file_extension": ".py",
   "mimetype": "text/x-python",
   "name": "python",
   "nbconvert_exporter": "python",
   "pygments_lexer": "ipython3",
   "version": "3.7.4"
  }
 },
 "nbformat": 4,
 "nbformat_minor": 2
}
