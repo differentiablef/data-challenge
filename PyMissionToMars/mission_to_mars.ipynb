{
 "cells": [
  {
   "cell_type": "markdown",
   "metadata": {},
   "source": [
    "### Imports"
   ]
  },
  {
   "cell_type": "code",
   "execution_count": 1,
   "metadata": {},
   "outputs": [],
   "source": [
    "import os, sys\n",
    "from bs4 import BeautifulSoup\n",
    "import pandas as pd\n",
    "import requests\n",
    "import splinter"
   ]
  },
  {
   "cell_type": "markdown",
   "metadata": {},
   "source": [
    "### NASA Mars News"
   ]
  },
  {
   "cell_type": "code",
   "execution_count": 2,
   "metadata": {},
   "outputs": [],
   "source": [
    "# request url for mars news api\n",
    "json_url=('https://mars.nasa.gov/api/v1/news_items/'\n",
    "          '?page=0&per_page=10'\n",
    "          '&order=publish_date+desc%2Ccreated_at+desc'\n",
    "          '&search='\n",
    "          '&category=19%2C165%2C184%2C204'\n",
    "          '&blank_scope=Latest')\n",
    "\n",
    "response = requests.get(json_url)\n",
    "if response.status_code == 200:\n",
    "    a=response.json()\n",
    "    news_item = a.get('items')[0]\n",
    "    news_title = news_item.get('title')\n",
    "    news_description = news_item.get('description')\n",
    "    news_p = BeautifulSoup(news_item.get('body'), 'html.parser').p.get_text()\n",
    "    pass"
   ]
  },
  {
   "cell_type": "code",
   "execution_count": 3,
   "metadata": {},
   "outputs": [
    {
     "name": "stdout",
     "output_type": "stream",
     "text": [
      "Title: NASA's Mars 2020 Comes Full Circle\n",
      "\n",
      "Description: Aiming to pinpoint the Martian vehicle's center of gravity, engineers took NASA's 2,300-pound Mars 2020 rover for a spin in the clean room at JPL. \n",
      "\n",
      "Blurb: ​Engineers took NASA's Mars 2020 for a spin on Aug. 29, 2019. The 2,300-pound (1,040-kilogram) Martian vehicle was rotated clockwise and counterclockwise at about 1 revolution per minute on what is called a spin table in the clean room of the Spacecraft Assembly Facility at NASA's Jet Propulsion Laboratory in Pasadena, California. (The rotation was speeded up in the video above.) The engineers were looking for the rover's center of gravity, or the point at which weight is evenly dispersed on all sides.\n",
      "\n"
     ]
    }
   ],
   "source": [
    "print(\"Title:\", news_title, end=\"\\n\\n\")\n",
    "print(\"Description:\", news_description, end=\"\\n\\n\")\n",
    "print(\"Blurb:\", news_p, end=\"\\n\\n\")"
   ]
  },
  {
   "cell_type": "markdown",
   "metadata": {},
   "source": [
    "### JPL Mars Space Images - Featured Image"
   ]
  },
  {
   "cell_type": "code",
   "execution_count": 4,
   "metadata": {},
   "outputs": [],
   "source": [
    "# NOTE: some of the featured images didn't have associated 'hires' links; \n",
    "#   so I used the default wallpaper link\n",
    "\n",
    "url=('https://www.jpl.nasa.gov/spaceimages/'\n",
    "     '?search='\n",
    "     '&category=Mars')\n",
    "\n",
    "response = requests.get(url)\n",
    "if response.status_code == 200:\n",
    "    soup = BeautifulSoup(response.text, 'html.parser').\\\n",
    "        find('article', 'carousel_item')\n",
    "    featured_image_url = 'https://www.jpl.nasa.gov' + soup.attrs['style'].split(\"'\")[1]\n",
    "    pass"
   ]
  },
  {
   "cell_type": "code",
   "execution_count": 5,
   "metadata": {},
   "outputs": [
    {
     "name": "stdout",
     "output_type": "stream",
     "text": [
      "Image URL: https://www.jpl.nasa.gov/spaceimages/images/wallpaper/PIA16729-1920x1200.jpg\n"
     ]
    }
   ],
   "source": [
    "print(\"Image URL:\", featured_image_url)"
   ]
  },
  {
   "cell_type": "markdown",
   "metadata": {},
   "source": [
    "### Mars Weather"
   ]
  },
  {
   "cell_type": "code",
   "execution_count": 6,
   "metadata": {},
   "outputs": [],
   "source": [
    "url=('https://twitter.com/marswxreport'\n",
    "     '?lang=en')\n",
    "\n",
    "brws = splinter.Browser(\"chrome\", executable_path=\"/home/burned/.local/bin/chromedriver\")\n",
    "brws.visit(url)\n",
    "html = brws.html\n",
    "brws.quit()\n",
    "\n",
    "soup = BeautifulSoup(html, 'html.parser')\n",
    "for s in soup.find_all('div', 'tweet'):\n",
    "    # this is *dumb*... should be using twitter's retarded api (which is also *dumb*)\n",
    "    #   ... so maybe this is less dumb?\n",
    "    txt=s.get_text()\n",
    "    if txt.find('InSight sol') >= 0:\n",
    "        mars_weather = txt[txt.find('InSight sol'):txt.find('hPa')+3]\n",
    "        break"
   ]
  },
  {
   "cell_type": "code",
   "execution_count": 7,
   "metadata": {},
   "outputs": [
    {
     "name": "stdout",
     "output_type": "stream",
     "text": [
      "Mars Weather: InSight sol 265 (2019-08-25) low -99.4ºC (-146.9ºF) high -26.3ºC (-15.3ºF)\n",
      "winds from the SSE at 5.3 m/s (12.0 mph) gusting to 16.1 m/s (35.9 mph)\n",
      "pressure at 7.50 hPa\n"
     ]
    }
   ],
   "source": [
    "print(\"Mars Weather:\", mars_weather)"
   ]
  },
  {
   "cell_type": "markdown",
   "metadata": {},
   "source": [
    "### Mars Facts"
   ]
  },
  {
   "cell_type": "code",
   "execution_count": 8,
   "metadata": {},
   "outputs": [],
   "source": [
    "url='https://space-facts.com/mars/'\n",
    "df = pd.read_html(url)\n",
    "df[0].set_index('Mars - Earth Comparison', inplace=True)\n",
    "mars_facts_table = df[0].to_html()"
   ]
  },
  {
   "cell_type": "code",
   "execution_count": 9,
   "metadata": {},
   "outputs": [
    {
     "data": {
      "text/html": [
       "<div>\n",
       "<style scoped>\n",
       "    .dataframe tbody tr th:only-of-type {\n",
       "        vertical-align: middle;\n",
       "    }\n",
       "\n",
       "    .dataframe tbody tr th {\n",
       "        vertical-align: top;\n",
       "    }\n",
       "\n",
       "    .dataframe thead th {\n",
       "        text-align: right;\n",
       "    }\n",
       "</style>\n",
       "<table border=\"1\" class=\"dataframe\">\n",
       "  <thead>\n",
       "    <tr style=\"text-align: right;\">\n",
       "      <th></th>\n",
       "      <th>Mars</th>\n",
       "      <th>Earth</th>\n",
       "    </tr>\n",
       "    <tr>\n",
       "      <th>Mars - Earth Comparison</th>\n",
       "      <th></th>\n",
       "      <th></th>\n",
       "    </tr>\n",
       "  </thead>\n",
       "  <tbody>\n",
       "    <tr>\n",
       "      <th>Diameter:</th>\n",
       "      <td>6,779 km</td>\n",
       "      <td>12,742 km</td>\n",
       "    </tr>\n",
       "    <tr>\n",
       "      <th>Mass:</th>\n",
       "      <td>6.39 × 10^23 kg</td>\n",
       "      <td>5.97 × 10^24 kg</td>\n",
       "    </tr>\n",
       "    <tr>\n",
       "      <th>Moons:</th>\n",
       "      <td>2</td>\n",
       "      <td>1</td>\n",
       "    </tr>\n",
       "    <tr>\n",
       "      <th>Distance from Sun:</th>\n",
       "      <td>227,943,824 km</td>\n",
       "      <td>149,598,262 km</td>\n",
       "    </tr>\n",
       "    <tr>\n",
       "      <th>Length of Year:</th>\n",
       "      <td>687 Earth days</td>\n",
       "      <td>365.24 days</td>\n",
       "    </tr>\n",
       "    <tr>\n",
       "      <th>Temperature:</th>\n",
       "      <td>-153 to 20 °C</td>\n",
       "      <td>-88 to 58°C</td>\n",
       "    </tr>\n",
       "  </tbody>\n",
       "</table>\n",
       "</div>"
      ],
      "text/plain": [
       "                                    Mars            Earth\n",
       "Mars - Earth Comparison                                  \n",
       "Diameter:                       6,779 km        12,742 km\n",
       "Mass:                    6.39 × 10^23 kg  5.97 × 10^24 kg\n",
       "Moons:                                 2                1\n",
       "Distance from Sun:        227,943,824 km   149,598,262 km\n",
       "Length of Year:           687 Earth days      365.24 days\n",
       "Temperature:               -153 to 20 °C      -88 to 58°C"
      ]
     },
     "execution_count": 9,
     "metadata": {},
     "output_type": "execute_result"
    }
   ],
   "source": [
    "df[0]"
   ]
  },
  {
   "cell_type": "markdown",
   "metadata": {},
   "source": [
    "### Mars Hemispheres"
   ]
  },
  {
   "cell_type": "code",
   "execution_count": 10,
   "metadata": {},
   "outputs": [
    {
     "name": "stdout",
     "output_type": "stream",
     "text": [
      "Title: Cerberus Hemisphere\n",
      "Image URL: http://astropedia.astrogeology.usgs.gov/download/Mars/Viking/cerberus_enhanced.tif\n",
      "Title: Schiaparelli Hemisphere\n",
      "Image URL: http://astropedia.astrogeology.usgs.gov/download/Mars/Viking/schiaparelli_enhanced.tif\n",
      "Title: Syrtis Major Hemisphere\n",
      "Image URL: http://astropedia.astrogeology.usgs.gov/download/Mars/Viking/syrtis_major_enhanced.tif\n",
      "Title: Valles Marineris Hemisphere\n",
      "Image URL: http://astropedia.astrogeology.usgs.gov/download/Mars/Viking/valles_marineris_enhanced.tif\n"
     ]
    }
   ],
   "source": [
    "base_url='https://astrogeology.usgs.gov/'\n",
    "url=(base_url+\n",
    "     'search/results'\n",
    "     '?q=hemisphere+enhanced'\n",
    "     '&k1=target'\n",
    "     '&v1=Mars')\n",
    "\n",
    "response = requests.get(url)\n",
    "\n",
    "hemisphere_image_urls = []\n",
    "\n",
    "if response.status_code == 200:\n",
    "    soup = BeautifulSoup(response.text, 'html.parser')\n",
    "    for itm in soup.find_all('div','item'):\n",
    "        # extract title\n",
    "        title = itm.find('h3').get_text()\n",
    "        title = title.replace(' Enhanced', '')\n",
    "        img_url = \"\"\n",
    "        \n",
    "        # hunt down link to original image\n",
    "        download_link = base_url + itm.find('a')['href']\n",
    "        resp = requests.get(download_link)\n",
    "        if resp.status_code == 200:\n",
    "            nsoup = BeautifulSoup(resp.text, 'html.parser')\n",
    "            dls = nsoup.find('div','downloads')\n",
    "            for litm in dls.find_all('li'):\n",
    "                link = litm.find('a')\n",
    "                # is this the link for the original?\n",
    "                if link.text == 'Original':\n",
    "                    # then, store it and be done with this mess.\n",
    "                    img_url = link['href']\n",
    "                    break\n",
    "        \n",
    "        print(\"Title:\", title.replace(' Enhanced', ''))\n",
    "        print(\"Image URL:\", img_url)\n",
    "        \n",
    "        # push title and url onto the end of our growing list\n",
    "        hemisphere_image_urls.append(\n",
    "            dict(title=title, img_url=img_url))\n",
    "    pass\n"
   ]
  }
 ],
 "metadata": {
  "kernelspec": {
   "display_name": "Python 3",
   "language": "python",
   "name": "python3"
  },
  "language_info": {
   "codemirror_mode": {
    "name": "ipython",
    "version": 3
   },
   "file_extension": ".py",
   "mimetype": "text/x-python",
   "name": "python",
   "nbconvert_exporter": "python",
   "pygments_lexer": "ipython3",
   "version": "3.7.4"
  }
 },
 "nbformat": 4,
 "nbformat_minor": 2
}
